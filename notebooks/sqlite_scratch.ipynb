{
 "cells": [
  {
   "cell_type": "code",
   "execution_count": 34,
   "metadata": {},
   "outputs": [],
   "source": [
    "import plistlib\n",
    "import mutagen\n",
    "from pathlib import Path\n",
    "from urllib.parse import unquote, urlparse\n",
    "import subprocess\n",
    "import os"
   ]
  },
  {
   "cell_type": "code",
   "execution_count": 14,
   "metadata": {},
   "outputs": [],
   "source": [
    "os.chdir(\"..\")"
   ]
  },
  {
   "cell_type": "code",
   "execution_count": null,
   "metadata": {},
   "outputs": [],
   "source": []
  },
  {
   "cell_type": "code",
   "execution_count": 16,
   "metadata": {},
   "outputs": [],
   "source": [
    "def get_playlists_by_name(name):\n",
    "    return [pl for pl in playlists if pl[\"Name\"] == name]\n",
    "\n",
    "\n",
    "def get_parent(pl):\n",
    "    if \"Parent Persistent ID\" not in pl.keys():\n",
    "        return None\n",
    "    else:\n",
    "        parent = [item for item in playlists\n",
    "        if item[\"Playlist Persistent ID\"] == pl[\"Parent Persistent ID\"]][0]\n",
    "        return parent\n",
    "\n",
    "\n",
    "def get_ancestors(pl):\n",
    "    this_pl = pl\n",
    "    ancestors = []\n",
    "    while \"Parent Persistent ID\" in this_pl.keys():\n",
    "        this_plp = get_parent(this_pl)\n",
    "        ancestors.append(this_plp)\n",
    "        this_pl = this_plp\n",
    "    return ancestors\n",
    "\n",
    "\n",
    "def playlist_tracks(playlist):\n",
    "    track_ids = [item[\"Track ID\"] for item in playlist[\"Playlist Items\"]]\n",
    "    # return [track for i, track in itl[\"Tracks\"].items() if track[\"Track ID\"] in track_ids]\n",
    "    playlist_tracks = []\n",
    "    for track_id in track_ids:\n",
    "        playlist_tracks.extend([track for i, track in itl[\"Tracks\"].items() if track[\"Track ID\"] == track_id])\n",
    "    return playlist_tracks"
   ]
  },
  {
   "cell_type": "code",
   "execution_count": 17,
   "metadata": {},
   "outputs": [],
   "source": [
    "with open(Path(\"/Users/toph/Music/Library.xml\").absolute(), \"rb\") as xml_file:\n",
    "    itl = plistlib.load(xml_file)\n"
   ]
  },
  {
   "cell_type": "markdown",
   "metadata": {},
   "source": [
    "## Transform data"
   ]
  },
  {
   "cell_type": "markdown",
   "metadata": {},
   "source": [
    "### Vibes"
   ]
  },
  {
   "cell_type": "code",
   "execution_count": 18,
   "metadata": {},
   "outputs": [],
   "source": [
    "playlists = itl[\"Playlists\"]"
   ]
  },
  {
   "cell_type": "code",
   "execution_count": 51,
   "metadata": {},
   "outputs": [],
   "source": [
    "vibes_folder = [pl for pl in playlists if pl[\"Name\"] == \"2. Vibes\"][0]"
   ]
  },
  {
   "cell_type": "code",
   "execution_count": 52,
   "metadata": {},
   "outputs": [],
   "source": [
    "music_vibes = [\n",
    "    pl for pl in playlists\n",
    "    if vibes_folder in get_ancestors(pl)\n",
    "]"
   ]
  },
  {
   "cell_type": "code",
   "execution_count": 55,
   "metadata": {},
   "outputs": [],
   "source": [
    "sql_vibes = []\n",
    "for pl in music_vibes:\n",
    "    vibe = {}\n",
    "    vibe[\"vibe_id\"] = vibe[\"playlist_id\"] = pl[\"Playlist ID\"]\n",
    "    vibe[\"name\"] = pl[\"Name\"]\n",
    "    vibe[\"parent_id\"] = get_parent(pl)[\"Playlist ID\"]\n",
    "    vibe[\"type\"] = \"label\" if \"Folder\" not in pl.keys() else \"folder\"\n",
    "    sql_vibes.append(vibe)"
   ]
  },
  {
   "cell_type": "code",
   "execution_count": 57,
   "metadata": {},
   "outputs": [
    {
     "data": {
      "text/plain": "[{'vibe_id': 163260,\n  'playlist_id': 163260,\n  'name': '1. Elements – Instruments, Beats, Composition, etc.',\n  'parent_id': 162450,\n  'type': 'folder'},\n {'vibe_id': 163654,\n  'playlist_id': 163654,\n  'name': '1. Instruments, Sounds',\n  'parent_id': 163260,\n  'type': 'folder'},\n {'vibe_id': 163739,\n  'playlist_id': 163739,\n  'name': 'Acoustic Parts',\n  'parent_id': 163654,\n  'type': 'label'},\n {'vibe_id': 163756,\n  'playlist_id': 163756,\n  'name': 'Beatless, Ambient',\n  'parent_id': 163654,\n  'type': 'label'},\n {'vibe_id': 163775,\n  'playlist_id': 163775,\n  'name': 'Beats Mostly',\n  'parent_id': 163654,\n  'type': 'label'},\n {'vibe_id': 163784,\n  'playlist_id': 163784,\n  'name': 'Beats Only',\n  'parent_id': 163654,\n  'type': 'label'}]"
     },
     "execution_count": 57,
     "metadata": {},
     "output_type": "execute_result"
    }
   ],
   "source": [
    "sql_vibes[0:6]"
   ]
  },
  {
   "cell_type": "markdown",
   "metadata": {},
   "source": [
    "### Tracks"
   ]
  },
  {
   "cell_type": "code",
   "execution_count": 76,
   "metadata": {},
   "outputs": [],
   "source": [
    "def try_key(dict, key, default):\n",
    "    return dict[key] if key in dict.keys() else default"
   ]
  },
  {
   "cell_type": "code",
   "execution_count": 75,
   "metadata": {},
   "outputs": [
    {
     "ename": "KeyError",
     "evalue": "'Artist'",
     "output_type": "error",
     "traceback": [
      "\u001b[0;31m---------------------------------------------------------------------------\u001b[0m",
      "\u001b[0;31mKeyError\u001b[0m                                  Traceback (most recent call last)",
      "\u001b[0;32m<ipython-input-75-7790c4912a04>\u001b[0m in \u001b[0;36m<module>\u001b[0;34m\u001b[0m\n\u001b[1;32m      5\u001b[0m     \u001b[0mtrack\u001b[0m\u001b[0;34m[\u001b[0m\u001b[0;34m\"track_id\"\u001b[0m\u001b[0;34m]\u001b[0m \u001b[0;34m=\u001b[0m \u001b[0mmusic_track\u001b[0m\u001b[0;34m[\u001b[0m\u001b[0;34m\"Track ID\"\u001b[0m\u001b[0;34m]\u001b[0m\u001b[0;34m\u001b[0m\u001b[0;34m\u001b[0m\u001b[0m\n\u001b[1;32m      6\u001b[0m     \u001b[0mtrack\u001b[0m\u001b[0;34m[\u001b[0m\u001b[0;34m\"name\"\u001b[0m\u001b[0;34m]\u001b[0m \u001b[0;34m=\u001b[0m \u001b[0mmusic_track\u001b[0m\u001b[0;34m[\u001b[0m\u001b[0;34m\"Name\"\u001b[0m\u001b[0;34m]\u001b[0m\u001b[0;34m\u001b[0m\u001b[0;34m\u001b[0m\u001b[0m\n\u001b[0;32m----> 7\u001b[0;31m     \u001b[0mtrack\u001b[0m\u001b[0;34m[\u001b[0m\u001b[0;34m\"artist\"\u001b[0m\u001b[0;34m]\u001b[0m \u001b[0;34m=\u001b[0m \u001b[0mmusic_track\u001b[0m\u001b[0;34m[\u001b[0m\u001b[0;34m\"Artist\"\u001b[0m\u001b[0;34m]\u001b[0m\u001b[0;34m\u001b[0m\u001b[0;34m\u001b[0m\u001b[0m\n\u001b[0m\u001b[1;32m      8\u001b[0m     \u001b[0mtrack\u001b[0m\u001b[0;34m[\u001b[0m\u001b[0;34m\"tracknum\"\u001b[0m\u001b[0;34m]\u001b[0m \u001b[0;34m=\u001b[0m \u001b[0mmusic_track\u001b[0m\u001b[0;34m[\u001b[0m\u001b[0;34m\"Track Number\"\u001b[0m\u001b[0;34m]\u001b[0m \u001b[0;32mif\u001b[0m \u001b[0;34m\"Track Number\"\u001b[0m \u001b[0;32min\u001b[0m \u001b[0mmusic_track\u001b[0m\u001b[0;34m.\u001b[0m\u001b[0mkeys\u001b[0m\u001b[0;34m(\u001b[0m\u001b[0;34m)\u001b[0m \u001b[0;32melse\u001b[0m \u001b[0;36m0\u001b[0m\u001b[0;34m\u001b[0m\u001b[0;34m\u001b[0m\u001b[0m\n\u001b[1;32m      9\u001b[0m     \u001b[0msql_tracks\u001b[0m\u001b[0;34m.\u001b[0m\u001b[0mappend\u001b[0m\u001b[0;34m(\u001b[0m\u001b[0mtrack\u001b[0m\u001b[0;34m)\u001b[0m\u001b[0;34m\u001b[0m\u001b[0;34m\u001b[0m\u001b[0m\n",
      "\u001b[0;31mKeyError\u001b[0m: 'Artist'"
     ]
    }
   ],
   "source": [
    "sql_tracks = []\n",
    "\n",
    "for _, music_track in itl[\"Tracks\"].items():\n",
    "    track = {}\n",
    "    track[\"track_id\"] = music_track[\"Track ID\"]\n",
    "    track[\"name\"] = music_track[\"Name\"]\n",
    "    track[\"artist\"] = music_track[\"Artist\"]\n",
    "    track[\"tracknum\"] = music_track[\"Track Number\"] if \"Track Number\" in music_track.keys() else 0\n",
    "    sql_tracks.append(track)\n"
   ]
  },
  {
   "cell_type": "code",
   "execution_count": null,
   "metadata": {},
   "outputs": [],
   "source": []
  },
  {
   "cell_type": "code",
   "execution_count": 71,
   "metadata": {},
   "outputs": [
    {
     "data": {
      "text/plain": "{'Track ID': 15129,\n 'Name': 'Music on My Teeth (feat. José Gonzalez)',\n 'Artist': 'DJ Koze',\n 'Album Artist': 'DJ Koze',\n 'Composer': 'Stefan Kozalla & José González',\n 'Album': 'Knock Knock',\n 'Genre': 'Electronica',\n 'Kind': 'Apple Music AAC audio file',\n 'Size': 9076829,\n 'Total Time': 256347,\n 'Disc Number': 1,\n 'Disc Count': 1,\n 'Track Number': 5,\n 'Track Count': 16,\n 'Year': 2018,\n 'Date Modified': datetime.datetime(2019, 8, 22, 16, 11, 45),\n 'Date Added': datetime.datetime(2018, 12, 14, 21, 24, 27),\n 'Bit Rate': 256,\n 'Sample Rate': 44100,\n 'Release Date': datetime.datetime(2018, 5, 4, 7, 0),\n 'Rating': 80,\n 'Album Rating': 80,\n 'Album Rating Computed': True,\n 'Loved': True,\n 'Normalization': 1440,\n 'Sort Album': 'Knock Knock',\n 'Sort Artist': 'DJ Koze',\n 'Sort Name': 'Music on My Teeth (feat. José Gonzalez)',\n 'Persistent ID': '923F50CB14490388',\n 'Track Type': 'File',\n 'Protected': True,\n 'Apple Music': True,\n 'Location': 'file:///Users/toph/Music/iTunes/iTunes%20Media/Apple%20Music/DJ%20Koze/Knock%20Knock/05%20Music%20on%20My%20Teeth%20(feat.%20Jos%C3%A9%20Gonzalez).m4p',\n 'File Folder Count': 5,\n 'Library Folder Count': 1}"
     },
     "execution_count": 71,
     "metadata": {},
     "output_type": "execute_result"
    }
   ],
   "source": [
    "music_tracks[0]"
   ]
  },
  {
   "cell_type": "code",
   "execution_count": null,
   "metadata": {},
   "outputs": [],
   "source": [
    "music_tracks = [\n",
    "    track_id = \n",
    "]"
   ]
  },
  {
   "cell_type": "markdown",
   "metadata": {},
   "source": [
    "## Initialize Schema"
   ]
  },
  {
   "cell_type": "code",
   "execution_count": 43,
   "metadata": {},
   "outputs": [
    {
     "data": {
      "text/plain": "CompletedProcess(args=['sqlite3', '-init', 'init-db.sql', 'vibechecker.db', \"'.exit'\"], returncode=1)"
     },
     "execution_count": 43,
     "metadata": {},
     "output_type": "execute_result"
    }
   ],
   "source": [
    "subprocess.run(\"rm -f vibechecker.db\".split(\" \"))\n",
    "subprocess.run(\"sqlite3 -init init-db.sql vibechecker.db '.exit'\".split(\" \"))"
   ]
  },
  {
   "cell_type": "markdown",
   "metadata": {},
   "source": [
    "## Insert stuff into tables!"
   ]
  },
  {
   "cell_type": "code",
   "execution_count": 58,
   "metadata": {},
   "outputs": [],
   "source": [
    "import sqlite3"
   ]
  },
  {
   "cell_type": "code",
   "execution_count": 64,
   "metadata": {},
   "outputs": [],
   "source": [
    "conn = sqlite3.connect(\"vibechecker.db\")"
   ]
  },
  {
   "cell_type": "code",
   "execution_count": 60,
   "metadata": {},
   "outputs": [],
   "source": [
    "cursor = conn.cursor()"
   ]
  },
  {
   "cell_type": "code",
   "execution_count": 61,
   "metadata": {},
   "outputs": [
    {
     "data": {
      "text/plain": "<sqlite3.Cursor at 0x12b108570>"
     },
     "execution_count": 61,
     "metadata": {},
     "output_type": "execute_result"
    }
   ],
   "source": [
    "cursor.executemany(\"\"\"\n",
    "    INSERT INTO vibes\n",
    "        (vibe_id, playlist_id, name, parent_id, type)\n",
    "    VALUES\n",
    "        (:vibe_id, :playlist_id, :name, :parent_id, :type)\"\"\", sql_vibes)"
   ]
  },
  {
   "cell_type": "code",
   "execution_count": 62,
   "metadata": {},
   "outputs": [],
   "source": [
    "conn.commit()"
   ]
  }
 ],
 "metadata": {
  "kernelspec": {
   "display_name": "Python 3",
   "language": "python",
   "name": "python3"
  },
  "language_info": {
   "codemirror_mode": {
    "name": "ipython",
    "version": 3
   },
   "file_extension": ".py",
   "mimetype": "text/x-python",
   "name": "python",
   "nbconvert_exporter": "python",
   "pygments_lexer": "ipython3",
   "version": "3.7.6-final"
  }
 },
 "nbformat": 4,
 "nbformat_minor": 4
}