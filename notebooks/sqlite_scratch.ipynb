{
 "cells": [
  {
   "cell_type": "code",
   "execution_count": 1,
   "metadata": {},
   "outputs": [],
   "source": [
    "import plistlib\n",
    "import mutagen\n",
    "from pathlib import Path\n",
    "from urllib.parse import unquote, urlparse\n",
    "import subprocess\n",
    "import os"
   ]
  },
  {
   "cell_type": "code",
   "execution_count": 2,
   "metadata": {},
   "outputs": [],
   "source": [
    "os.chdir(\"/Users/toph/Local/Projects/vibechecker-scratch\")"
   ]
  },
  {
   "cell_type": "code",
   "execution_count": 3,
   "metadata": {},
   "outputs": [],
   "source": [
    "def get_playlists_by_name(name):\n",
    "    return [pl for pl in playlists if pl[\"Name\"] == name]\n",
    "\n",
    "\n",
    "def get_parent(pl):\n",
    "    if \"Parent Persistent ID\" not in pl.keys():\n",
    "        return None\n",
    "    else:\n",
    "        parent = [item for item in playlists\n",
    "        if item[\"Playlist Persistent ID\"] == pl[\"Parent Persistent ID\"]][0]\n",
    "        return parent\n",
    "\n",
    "\n",
    "def get_ancestors(pl):\n",
    "    this_pl = pl\n",
    "    ancestors = []\n",
    "    while \"Parent Persistent ID\" in this_pl.keys():\n",
    "        this_plp = get_parent(this_pl)\n",
    "        ancestors.append(this_plp)\n",
    "        this_pl = this_plp\n",
    "    return ancestors\n",
    "\n",
    "\n",
    "def playlist_tracks(playlist):\n",
    "    track_ids = [item[\"Track ID\"] for item in playlist[\"Playlist Items\"]]\n",
    "    # return [track for i, track in itl[\"Tracks\"].items() if track[\"Track ID\"] in track_ids]\n",
    "    playlist_tracks = []\n",
    "    for track_id in track_ids:\n",
    "        playlist_tracks.extend([track for i, track in itl[\"Tracks\"].items() if track[\"Track ID\"] == track_id])\n",
    "    return playlist_tracks"
   ]
  },
  {
   "cell_type": "code",
   "execution_count": 4,
   "metadata": {},
   "outputs": [],
   "source": [
    "with open(Path(\"/Users/toph/Music/Library.xml\").absolute(), \"rb\") as xml_file:\n",
    "    itl = plistlib.load(xml_file)\n"
   ]
  },
  {
   "cell_type": "markdown",
   "metadata": {},
   "source": [
    "## Transform data"
   ]
  },
  {
   "cell_type": "markdown",
   "metadata": {},
   "source": [
    "### Vibes"
   ]
  },
  {
   "cell_type": "code",
   "execution_count": 5,
   "metadata": {},
   "outputs": [],
   "source": [
    "playlists = itl[\"Playlists\"]"
   ]
  },
  {
   "cell_type": "code",
   "execution_count": 6,
   "metadata": {},
   "outputs": [],
   "source": [
    "vibes_folder = [pl for pl in playlists if pl[\"Name\"] == \"2. Vibes\"][0]"
   ]
  },
  {
   "cell_type": "code",
   "execution_count": 7,
   "metadata": {},
   "outputs": [],
   "source": [
    "music_vibes = [\n",
    "    pl for pl in playlists\n",
    "    if vibes_folder in get_ancestors(pl)\n",
    "]"
   ]
  },
  {
   "cell_type": "code",
   "execution_count": 8,
   "metadata": {},
   "outputs": [],
   "source": [
    "sql_vibes = []\n",
    "for pl in music_vibes:\n",
    "    vibe = {}\n",
    "    vibe[\"vibe_id\"] = vibe[\"playlist_id\"] = pl[\"Playlist ID\"]\n",
    "    vibe[\"name\"] = pl[\"Name\"]\n",
    "    vibe[\"parent_id\"] = get_parent(pl)[\"Playlist ID\"]\n",
    "    vibe[\"type\"] = \"label\" if \"Folder\" not in pl.keys() else \"folder\"\n",
    "    sql_vibes.append(vibe)"
   ]
  },
  {
   "cell_type": "code",
   "execution_count": 9,
   "metadata": {},
   "outputs": [
    {
     "data": {
      "text/plain": "[{'vibe_id': 163260,\n  'playlist_id': 163260,\n  'name': '1. Elements – Instruments, Beats, Composition, etc.',\n  'parent_id': 162450,\n  'type': 'folder'},\n {'vibe_id': 163654,\n  'playlist_id': 163654,\n  'name': '1. Instruments, Sounds',\n  'parent_id': 163260,\n  'type': 'folder'},\n {'vibe_id': 163739,\n  'playlist_id': 163739,\n  'name': 'Acoustic Parts',\n  'parent_id': 163654,\n  'type': 'label'},\n {'vibe_id': 163756,\n  'playlist_id': 163756,\n  'name': 'Beatless, Ambient',\n  'parent_id': 163654,\n  'type': 'label'},\n {'vibe_id': 163775,\n  'playlist_id': 163775,\n  'name': 'Beats Mostly',\n  'parent_id': 163654,\n  'type': 'label'},\n {'vibe_id': 163784,\n  'playlist_id': 163784,\n  'name': 'Beats Only',\n  'parent_id': 163654,\n  'type': 'label'}]"
     },
     "execution_count": 9,
     "metadata": {},
     "output_type": "execute_result"
    }
   ],
   "source": [
    "sql_vibes[0:6]"
   ]
  },
  {
   "cell_type": "markdown",
   "metadata": {},
   "source": [
    "### Tracks"
   ]
  },
  {
   "cell_type": "code",
   "execution_count": 10,
   "metadata": {},
   "outputs": [],
   "source": [
    "def try_key(dict, key, default = None):\n",
    "    return dict[key] if key in dict.keys() else default"
   ]
  },
  {
   "cell_type": "code",
   "execution_count": 11,
   "metadata": {},
   "outputs": [],
   "source": [
    "sql_tracks = []\n",
    "\n",
    "for _, music_track in itl[\"Tracks\"].items():\n",
    "    track = {}\n",
    "    track[\"track_id\"] = music_track[\"Track ID\"]\n",
    "    track[\"name\"] = music_track[\"Name\"]\n",
    "    track[\"artist\"] = try_key(music_track, \"Artist\", \"\")\n",
    "    track[\"album\"] = try_key(music_track, \"Album\", \"\")\n",
    "    track[\"tracknum\"] = try_key(music_track, \"Track Number\", 0)\n",
    "    sql_tracks.append(track)\n"
   ]
  },
  {
   "cell_type": "code",
   "execution_count": 12,
   "metadata": {},
   "outputs": [
    {
     "data": {
      "text/plain": "{'track_id': 15129,\n 'name': 'Music on My Teeth (feat. José Gonzalez)',\n 'artist': 'DJ Koze',\n 'album': 'Knock Knock',\n 'tracknum': 5}"
     },
     "execution_count": 12,
     "metadata": {},
     "output_type": "execute_result"
    }
   ],
   "source": [
    "sql_tracks[0]"
   ]
  },
  {
   "cell_type": "markdown",
   "metadata": {},
   "source": [
    "### Track-Vibe Associations"
   ]
  },
  {
   "cell_type": "code",
   "execution_count": 13,
   "metadata": {},
   "outputs": [],
   "source": [
    "mv_test = [p for p in playlists if p[\"Playlist ID\"] == 169670]"
   ]
  },
  {
   "cell_type": "code",
   "execution_count": 14,
   "metadata": {},
   "outputs": [
    {
     "data": {
      "text/plain": "200"
     },
     "execution_count": 14,
     "metadata": {},
     "output_type": "execute_result"
    }
   ],
   "source": [
    "len(music_vibes)"
   ]
  },
  {
   "cell_type": "code",
   "execution_count": 15,
   "metadata": {},
   "outputs": [
    {
     "name": "stdout",
     "output_type": "stream",
     "text": "playlist\n"
    }
   ],
   "source": [
    "track_vibes = []\n",
    "for playlist in music_vibes:\n",
    "    if \"Playlist Items\" not in playlist.keys():\n",
    "        continue\n",
    "    vibe_tracks = []\n",
    "    if playlist[\"Playlist ID\"] == 169670:\n",
    "        print(\"playlist\")\n",
    "    for playlist_item in playlist[\"Playlist Items\"]:\n",
    "        if playlist_item[\"Track ID\"] == 16067 and playlist[\"Playlist ID\"] == 169670:\n",
    "            print(\"track\")\n",
    "        vibe_track = {}\n",
    "        vibe_track[\"vibe_id\"] = playlist[\"Playlist ID\"]\n",
    "        vibe_track[\"track_id\"] = playlist_item[\"Track ID\"]\n",
    "        vibe_track[\"track_vibe_id\"] = int(str(vibe_track[\"track_id\"]) + str(vibe_track[\"vibe_id\"]))\n",
    "        vibe_track[\"value\"] = 1.0\n",
    "        vibe_tracks.append(vibe_track)\n",
    "        if vibe_track[\"track_vibe_id\"] == 16534423393:\n",
    "            print(\"bad vibes\")\n",
    "    track_vibes.extend(vibe_tracks)"
   ]
  },
  {
   "cell_type": "code",
   "execution_count": 16,
   "metadata": {},
   "outputs": [
    {
     "data": {
      "text/plain": "rack_id': 70730,\n  'track_vibe_id': 70730163867,\n  'value': 1.0},\n {'vibe_id': 163867,\n  'track_id': 16061,\n  'track_vibe_id': 16061163867,\n  'value': 1.0},\n {'vibe_id': 163867,\n  'track_id': 70812,\n  'track_vibe_id': 70812163867,\n  'value': 1.0},\n {'vibe_id': 163867,\n  'track_id': 70862,\n  'track_vibe_id': 70862163867,\n  'value': 1.0},\n {'vibe_id': 163867,\n  'track_id': 70871,\n  'track_vibe_id': 70871163867,\n  'value': 1.0},\n {'vibe_id': 163867,\n  'track_id': 71592,\n  'track_vibe_id': 71592163867,\n  'value': 1.0},\n {'vibe_id': 163867,\n  'track_id': 71365,\n  'track_vibe_id': 71365163867,\n  'value': 1.0},\n {'vibe_id': 163867,\n  'track_id': 71368,\n  'track_vibe_id': 71368163867,\n  'value': 1.0},\n {'vibe_id': 163867,\n  'track_id': 71562,\n  'track_vibe_id': 71562163867,\n  'value': 1.0},\n {'vibe_id': 163867,\n  'track_id': 71565,\n  'track_vibe_id': 71565163867,\n  'value': 1.0},\n {'vibe_id': 163867,\n  'track_id': 71577,\n  'track_vibe_id': 71577163867,\n  'value': 1.0},\n {'vibe_id': 163867,\n  'track_id': 69661,\n  'track_vibe_id': 69661163867,\n  'value': 1.0},\n {'vibe_id': 163867,\n  'track_id': 71910,\n  'track_vibe_id': 71910163867,\n  'value': 1.0},\n {'vibe_id': 163867,\n  'track_id': 19133,\n  'track_vibe_id': 19133163867,\n  'value': 1.0},\n {'vibe_id': 163867,\n  'track_id': 72339,\n  'track_vibe_id': 72339163867,\n  'value': 1.0},\n {'vibe_id': 163867,\n  'track_id': 71901,\n  'track_vibe_id': 71901163867,\n  'value': 1.0},\n {'vibe_id': 163867,\n  'track_id': 21795,\n  'track_vibe_id': 21795163867,\n  'value': 1.0},\n {'vibe_id': 163867,\n  'track_id': 69631,\n  'track_vibe_id': 69631163867,\n  'value': 1.0},\n {'vibe_id': 163867,\n  'track_id': 72369,\n  'track_vibe_id': 72369163867,\n  'value': 1.0},\n {'vibe_id': 163867,\n  'track_id': 72378,\n  'track_vibe_id': 72378163867,\n  'value': 1.0},\n {'vibe_id': 163867,\n  'track_id': 72869,\n  'track_vibe_id': 72869163867,\n  'value': 1.0},\n {'vibe_id': 163867,\n  'track_id': 17874,\n  'track_vibe_id': 17874163867,\n  'value': 1.0},\n {'vibe_id': 163867,\n  'track_id': 17910,\n  'track_vibe_id': 17910163867,\n  'value': 1.0},\n {'vibe_id': 163867,\n  'track_id': 17919,\n  'track_vibe_id': 17919163867,\n  'value': 1.0},\n {'vibe_id': 163867,\n  'track_id': 68855,\n  'track_vibe_id': 68855163867,\n  'value': 1.0},\n {'vibe_id': 163867,\n  'track_id': 69319,\n  'track_vibe_id': 69319163867,\n  'value': 1.0},\n {'vibe_id': 163867,\n  'track_id': 71460,\n  'track_vibe_id': 71460163867,\n  'value': 1.0},\n {'vibe_id': 163867,\n  'track_id': 68990,\n  'track_vibe_id': 68990163867,\n  'value': 1.0},\n {'vibe_id': 163867,\n  'track_id': 69008,\n  'track_vibe_id': 69008163867,\n  'value': 1.0},\n {'vibe_id': 163867,\n  'track_id': 73195,\n  'track_vibe_id': 73195163867,\n  'value': 1.0},\n {'vibe_id': 163867,\n  'track_id': 73252,\n  'track_vibe_id': 73252163867,\n  'value': 1.0},\n {'vibe_id': 163867,\n  'track_id': 69820,\n  'track_vibe_id': 69820163867,\n  'value': 1.0},\n {'vibe_id': 163867,\n  'track_id': 69454,\n  'track_vibe_id': 69454163867,\n  'value': 1.0},\n {'vibe_id': 163867,\n  'track_id': 69442,\n  'track_vibe_id': 69442163867,\n  'value': 1.0},\n {'vibe_id': 163867,\n  'track_id': 68439,\n  'track_vibe_id': 68439163867,\n  'value': 1.0},\n {'vibe_id': 163867,\n  'track_id': 73335,\n  'track_vibe_id': 73335163867,\n  'value': 1.0},\n {'vibe_id': 163867,\n  'track_id': 73374,\n  'track_vibe_id': 73374163867,\n  'value': 1.0},\n {'vibe_id': 163867,\n  'track_id': 18856,\n  'track_vibe_id': 18856163867,\n  'value': 1.0},\n {'vibe_id': 163867,\n  'track_id': 73129,\n  'track_vibe_id': 73129163867,\n  'value': 1.0},\n {'vibe_id': 163867,\n  'track_id': 73123,\n  'track_vibe_id': 73123163867,\n  'value': 1.0},\n {'vibe_id': 163867,\n  'track_id': 73147,\n  'track_vibe_id': 73147163867,\n  'value': 1.0},\n {'vibe_id': 163867,\n  'track_id': 71727,\n  'track_vibe_id': 71727163867,\n  'value': 1.0},\n {'vibe_id': 163867,\n  'track_id': 16711,\n  'track_vibe_id': 16711163867,\n  'value': 1.0},\n {'vibe_id': 163867,\n  'track_id': 74198,\n  'track_vibe_id': 74198163867,\n  'value': 1.0},\n {'vibe_id': 163867,\n  'track_id': 74231,\n  'track_vibe_id': 74231163867,\n  'value': 1.0},\n {'vibe_id': 163867,\n  'track_id': 74234,\n  'track_vibe_id': 74234163867,\n  'value': 1.0},\n {'vibe_id': 163867,\n  'track_id': 74273,\n  'track_vibe_id': 74273163867,\n  'value': 1.0},\n {'vibe_id': 163867,\n  'track_id': 74222,\n  'track_vibe_id': 74222163867,\n  'value': 1.0},\n {'vibe_id': 163867,\n  'track_id': 74378,\n  'track_vibe_id': 74378163867,\n  'value': 1.0},\n {'vibe_id': 164137,\n  'track_id': 67811,\n  'track_vibe_id': 67811164137,\n  'value': 1.0},\n {'vibe_id': 164137,\n  'track_id': 67828,\n  'track_vibe_id': 67828164137,\n  'value': 1.0},\n {'vibe_id': 164137,\n  'track_id': 68033,\n  'track_vibe_id': 68033164137,\n  'value': 1.0},\n {'vibe_id': 164137,\n  'track_id': 69157,\n  'track_vibe_id': 69157164137,\n  'value': 1.0},\n {'vibe_id': 164137,\n  'track_id': 69289,\n  'track_vibe_id': 69289164137,\n  'value': 1.0},\n {'vibe_id': 164137,\n  'track_id': 69652,\n  'track_vibe_id': 69652164137,\n  'value': 1.0},\n {'vibe_id': 164137,\n  'track_id': 71565,\n  'track_vibe_id': 71565164137,\n  'value': 1.0},\n {'vibe_id': 164137,\n  'track_id': 72869,\n  'track_vibe_id': 72869164137,\n  'value': 1.0},\n {'vibe_id': 164148,\n  'track_id': 18208,\n  'track_vibe_id': 18208164148,\n  'value': 1.0},\n {'vibe_id': 164148,\n  'track_id': 17468,\n  'track_vibe_id': 17468164148,\n  'value': 1.0},\n {'vibe_id': 164148,\n  'track_id': 18488,\n  'track_vibe_id': 18488164148,\n  'value': 1.0},\n {'vibe_id': 164148,\n  'track_id': 19587,\n  'track_vibe_id': 19587164148,\n  'value': 1.0},\n {'vibe_id': 164148,\n  'track_id': 19720,\n  'track_vibe_id': 19720164148,\n  'value': 1.0},\n {'vibe_id': 164148,\n  'track_id': 20209,\n  'track_vibe_id': 20209164148,\n  'value': 1.0},\n {'vibe_id': 164148,\n  'track_id': 20275,\n  'track_vibe_id': 20275164148,\n  'value': 1.0},\n {'vibe_id': 164148,\n  'track_id': 20604,\n  'track_vibe_id': 20604164148,\n  'value': 1.0},\n {'vibe_id': 164148,\n  'track_id': 18721,\n  'track_vibe_id': 18721164148,\n  'value': 1.0},\n {'vibe_id': 164148,\n  'track_id': 20505,\n  'track_vibe_id': 20505164148,\n  'value': 1.0},\n {'vibe_id': 164148,\n  'track_id': 16124,\n  'track_vibe_id': 16124164148,\n  'value': 1.0},\n {'vibe_id': 164148,\n  'track_id': 21396,\n  'track_vibe_id': 21396164148,\n  'value': 1.0},\n {'vibe_id': 164148,\n  'track_id': 21405,\n  'track_vibe_id': 21405164148,\n  'value': 1.0},\n {'vibe_id': 164148,\n  'track_id': 17347,\n  'track_vibe_id': 17347164148,\n  'value': 1.0},\n {'vibe_id': 164148,\n  'track_id': 21262,\n  'track_vibe_id': 21262164148,\n  'value': 1.0},\n {'vibe_id': 164148,\n  'track_id': 21780,\n  'track_vibe_id': 21780164148,\n  'value': 1.0},\n {'vibe_id': 164148,\n  'track_id': 21878,\n  'track_vibe_id': 21878164148,\n  'value': 1.0},\n {'vibe_id': 164148,\n  'track_id': 21884,\n  'track_vibe_id': 21884164148,\n  'value': 1.0},\n {'vibe_id': 164148,\n  'track_id': 22103,\n  'track_vibe_id': 22103164148,\n  'value': 1.0},\n {'vibe_id': 164148,\n  'track_id': 22124,\n  'track_vibe_id': 22124164148,\n  'value': 1.0},\n {'vibe_id': 164148,\n  'track_id': 22127,\n  'track_vibe_id': 22127164148,\n  'value': 1.0},\n {'vibe_id': 164148,\n  'track_id': 22133,\n  'track_vibe_id': 22133164148,\n  'value': 1.0},\n {'vibe_id': 164148,\n  'track_id': 22145,\n  'track_vibe_id': 22145164148,\n  'value': 1.0},\n {'vibe_id': 164148,\n  'track_id': 22139,\n  'track_vibe_id': 22139164148,\n  'value': 1.0},\n {'vibe_id': 164148,\n  'track_id': 19335,\n  'track_vibe_id': 19335164148,\n  'value': 1.0},\n {'vibe_id': 164148,\n  'track_id': 18718,\n  'track_vibe_id': 18718164148,\n  'value': 1.0},\n {'vibe_id': 164148,\n  'track_id': 22169,\n  'track_vibe_id': 22169164148,\n  'value': 1.0},\n {'vibe_id': 164148,\n  'track_id': 22202,\n  'track_vibe_id': 22202164148,\n  'value': 1.0},\n {'vibe_id': 164148,\n  'track_id': 22238,\n  'track_vibe_id': 22238164148,\n  'value': 1.0},\n {'vibe_id': 164148,\n  'track_id': 22244,\n  'track_vibe_id': 22244164148,\n  'value': 1.0},\n {'vibe_id': 164148,\n  'track_id': 21825,\n  'track_vibe_id': 21825164148,\n  'value': 1.0},\n {'vibe_id': 164148,\n  'track_id': 20961,\n  'track_vibe_id': 20961164148,\n  'value': 1.0},\n {'vibe_id': 164148,\n  'track_id': 20958,\n  'track_vibe_id': 20958164148,\n  'value': 1.0},\n {'vibe_id': 164148,\n  'track_id': 18763,\n  'track_vibe_id': 18763164148,\n  'value': 1.0},\n {'vibe_id': 164148,\n  'track_id': 22705,\n  'track_vibe_id': 22705164148,\n  'value': 1.0},\n {'vibe_id': 164148,\n  'track_id': 41691,\n  'track_vibe_id': 41691164148,\n  'value': 1.0},\n {'vibe_id': 164148,\n  'track_id': 24267,\n  'track_vibe_id': 24267164148,\n  'value': 1.0},\n {'vibe_id': 164148,\n  'track_id': 19380,\n  'track_vibe_id': 19380164148,\n  'value': 1.0},\n {'vibe_id': 164148,\n  'track_id': 19377,\n  'track_vibe_id': 19377164148,\n  'value': 1.0},\n {'vibe_id': 164148,\n  'track_id': 24231,\n  'track_vibe_id': 24231164148,\n  'value': 1.0},\n {'vibe_id': 164148,\n  'track_id': 24234,\n  'track_vibe_id': 24234164148,\n  'value': 1.0},\n {'vibe_id': 164148,\n  'track_id': 24389,\n  'track_vibe_id': 24389164148,\n  'value': 1.0},\n {'vibe_id': 164148,\n  'track_id': 68045,\n  'track_vibe_id': 68045164148,\n  'value': 1.0},\n {'vibe_id': 164148,\n  'track_id': 68048,\n  'track_vibe_id': 68048164148,\n  'value': 1.0},\n {'vibe_id': 164148,\n  'track_id': 68373,\n  'track_vibe_id': 68373164148,\n  'value': 1.0},\n {'vibe_id': 164148,\n  'track_id': 68226,\n  'track_vibe_id': 68226164148,\n  'value': 1.0},\n {'vibe_id': 164148,\n  'track_id': 68220,\n  'track_vibe_id': 68220164148,\n  'value': 1.0},\n {'vibe_id': 164148,\n  'track_id': 46103,\n  'track_vibe_id': 46103164148,\n  'value': 1.0},\n {'vibe_id': 164148,\n  'track_id': 68912,\n  'track_vibe_id': 68912164148,\n  'value': 1.0},\n {'vibe_id': 164148,\n  'track_id': 70571,\n  'track_vibe_id': 70571164148,\n  'value': 1.0},\n {'vibe_id': 164148,\n  'track_id': 19133,\n  'track_vibe_id': 19133164148,\n  'value': 1.0},\n {'vibe_id': 164148,\n  'track_id': 72869,\n  'track_vibe_id': 72869164148,\n  'value': 1.0},\n {'vibe_id': 164148,\n  'track_id': 17910,\n  'track_vibe_id': 17910164148,\n  'value': 1.0},\n {'vibe_id': 164148,\n  'track_id': 69008,\n  'track_vibe_id': 69008164148,\n  'value': 1.0},\n {'vibe_id': 164148,\n  'track_id': 73252,\n  'track_vibe_id': 73252164148,\n  'value': 1.0},\n {'vibe_id': 164148,\n  'track_id': 69820,\n  'track_vibe_id': 69820164148,\n  'value': 1.0},\n {'vibe_id': 164148,\n  'track_id': 74231,\n  'track_vibe_id': 74231164148,\n  'value': 1.0},\n {'vibe_id': 164148,\n  'track_id': 74198,\n  'track_vibe_id': 74198164148,\n  'value': 1.0},\n {'vibe_id': 164148,\n  'track_id': 74234,\n  'track_vibe_id': 74234164148,\n  'value': 1.0},\n {'vibe_id': 164148,\n  'track_id': 74222,\n  'track_vibe_id': 74222164148,\n  'value': 1.0},\n {'vibe_id': 164148,\n  'track_id': 74378,\n  'track_vibe_id': 74378164148,\n  'value': 1.0},\n {'vibe_id': 164212,\n  'track_id': 70862,\n  'track_vibe_id': 70862164212,\n  'value': 1.0},\n {'vibe_id': 164212,\n  'track_id': 70871,\n  'track_vibe_id': 70871164212,\n  'value': 1.0},\n {'vibe_id': 164212,\n  'track_id': 71577,\n  'track_vibe_id': 71577164212,\n  'value': 1.0},\n {'vibe_id': 164212,\n  'track_id': 71460,\n  'track_vibe_id': 71460164212,\n  'value': 1.0},\n {'vibe_id': 164212,\n  'track_id': 16711,\n  'track_vibe_id': 16711164212,\n  'value': 1.0},\n {'vibe_id': 164212,\n  'track_id': 74273,\n  'track_vibe_id': 74273164212,\n  'value': 1.0},\n {'vibe_id': 164221,\n  'track_id': 18395,\n  'track_vibe_id': 18395164221,\n  'value': 1.0},\n {'vibe_id': 164221,\n  'track_id': 18068,\n  'track_vibe_id': 18068164221,\n  'value': 1.0},\n {'vibe_id': 164221,\n  'track_id': 19759,\n  'track_vibe_id': 19759164221,\n  'value': 1.0},\n {'vibe_id': 164221,\n  'track_id': 19282,\n  'track_vibe_id': 19282164221,\n  'value': 1.0},\n {'vibe_id': 164221,\n  'track_id': 20221,\n  'track_vibe_id': 20221164221,\n  'value': 1.0},\n {'vibe_id': 164221,\n  'track_id': 19148,\n  'track_vibe_id': 19148164221,\n  'value': 1.0},\n {'vibe_id': 164221,\n  'track_id': 20305,\n  'track_vibe_id': 20305164221,\n  'value': 1.0},\n {'vibe_id': 164221,\n  'track_id': 19948,\n  'track_vibe_id': 19948164221,\n  'value': 1.0},\n {'vibe_id': 164221,\n  'track_id': 20374,\n  'track_vibe_id': 20374164221,\n  'value': 1.0},\n {'vibe_id': 164221,\n  'track_id': 18518,\n  'track_vibe_id': 18518164221,\n  'value': 1.0},\n {'vibe_id': 164221,\n  'track_id': 57341,\n  'track_vibe_id': 57341164221,\n  'value': 1.0},\n {'vibe_id': 164221,\n  'track_id': 20245,\n  'track_vibe_id': 20245164221,\n  'value': 1.0},\n {'vibe_id': 164221,\n  'track_id': 20999,\n  'track_vibe_id': 20999164221,\n  'value': 1.0},\n {'vibe_id': 164221,\n  'track_id': 20981,\n  'track_vibe_id': 20981164221,\n  'value': 1.0},\n {'vibe_id': 164221,\n  'track_id': 20658,\n  'track_vibe_id': 20658164221,\n  'value': 1.0},\n {'vibe_id': 164221,\n  'track_id': 20125,\n  'track_vibe_id': 20125164221,\n  'value': 1.0},\n {'vibe_id': 164221,\n  'track_id': 20059,\n  'track_vibe_id': 20059164221,\n  'value': 1.0},\n {'vibe_id': 164221,\n  'track_id': 16154,\n  'track_vibe_id': 16154164221,\n  'value': 1.0},\n {'vibe_id': 164221,\n  'track_id': 21438,\n  'track_vibe_id': 21438164221,\n  'value': 1.0},\n {'vibe_id': 164221,\n  'track_id': 21480,\n  'track_vibe_id': 21480164221,\n  'value': 1.0},\n {'vibe_id': 164221,\n  'track_id': 21680,\n  'track_vibe_id': 21680164221,\n  'value': 1.0},\n {'vibe_id': 164221,\n  'track_id': 21576,\n  'track_vibe_id': 21576164221,\n  'value': 1.0},\n {'vibe_id': 164221,\n  'track_id': 17257,\n  'track_vibe_id': 17257164221,\n  'value': 1.0},\n {'vibe_id': 164221,\n  'track_id': 22226,\n  'track_vibe_id': 22226164221,\n  'value': 1.0},\n {'vibe_id': 164221,\n  'track_id': 22767,\n  'track_vibe_id': 22767164221,\n  'value': 1.0},\n {'vibe_id': 164221,\n  'track_id': 22868,\n  'track_vibe_id': 22868164221,\n  'value': 1.0},\n {'vibe_id': 164221,\n  'track_id': 21648,\n  'track_vibe_id': 21648164221,\n  'value': 1.0},\n {'vibe_id': 164221,\n  'track_id': 15870,\n  'track_vibe_id': 15870164221,\n  'value': 1.0},\n {'vibe_id': 164221,\n  'track_id': 21465,\n  'track_vibe_id': 21465164221,\n  'value': 1.0},\n {'vibe_id': 164221,\n  'track_id': 22985,\n  'track_vibe_id': 22985164221,\n  'value': 1.0},\n {'vibe_id': 164221,\n  'track_id': 23246,\n  'track_vibe_id': 23246164221,\n  'value': 1.0},\n {'vibe_id': 164221,\n  'track_id': 23249,\n  'track_vibe_id': 23249164221,\n  'value': 1.0},\n {'vibe_id': 164221,\n  'track_id': 23252,\n  'track_vibe_id': 23252164221,\n  'value': 1.0},\n {'vibe_id': 164221,\n  'track_id': 23762,\n  'track_vibe_id': 23762164221,\n  'value': 1.0},\n {'vibe_id': 164221,\n  'track_id': 19377,\n  'track_vibe_id': 19377164221,\n  'value': 1.0},\n {'vibe_id': 164221,\n  'track_id': 67808,\n  'track_vibe_id': 67808164221,\n  'value': 1.0},\n {'vibe_id': 164221,\n  'track_id': 67822,\n  'track_vibe_id': 67822164221,\n  'value': 1.0},\n {'vibe_id': 164221,\n  'track_id': 67831,\n  'track_vibe_id': 67831164221,\n  'value': 1.0},\n {'vibe_id': 164221,\n  'track_id': 68054,\n  'track_vibe_id': 68054164221,\n  'value': 1.0},\n {'vibe_id': 164221,\n  'track_id': 22474,\n  'track_vibe_id': 22474164221,\n  'value': 1.0},\n {'vibe_id': 164221,\n  'track_id': 68235,\n  'track_vibe_id': 68235164221,\n  'value': 1.0},\n {'vibe_id': 164221,\n  'track_id': 68451,\n  'track_vibe_id': 68451164221,\n  'value': 1.0},\n {'vibe_id': 164221,\n  'track_id': 20984,\n  'track_vibe_id': 20984164221,\n  'value': 1.0},\n {'vibe_id': 164221,\n  'track_id': 68605,\n  'track_vibe_id': 68605164221,\n  'value': 1.0},\n {'vibe_id': 164221,\n  'track_id': 68709,\n  'track_vibe_id': 68709164221,\n  'value': 1.0},\n {'vibe_id': 164221,\n  'track_id': 68921,\n  'track_vibe_id': 68921164221,\n  'value': 1.0},\n {'vibe_id': 164221,\n  'track_id': 15613,\n  'track_vibe_id': 15613164221,\n  'value': 1.0},\n {'vibe_id': 164221,\n  'track_id': 69169,\n  'track_vibe_id': 69169164221,\n  'value': 1.0},\n {'vibe_id': 164221,\n  'track_id': 69017,\n  'track_vibe_id': 69017164221,\n  'value': 1.0},\n {'vibe_id': 164221,\n  'track_id': 69891,\n  'track_vibe_id': 69891164221,\n  'value': 1.0},\n {'vibe_id': 164221,\n  'track_id': 69778,\n  'track_vibe_id': 69778164221,\n  'value': 1.0},\n {'vibe_id': 164221,\n  'track_id': 69957,\n  'track_vibe_id': 69957164221,\n  'value': 1.0},\n {'vibe_id': 164221,\n  'track_id': 19726,\n  'track_vibe_id': 19726164221,\n  'value': 1.0},\n {'vibe_id': 164221,\n  'track_id': 68789,\n  'track_vibe_id': 68789164221,\n  'value': 1.0},\n {'vibe_id': 164221,\n  'track_id': 68783,\n  'track_vibe_id': 68783164221,\n  'value': 1.0},\n {'vibe_id': 164221,\n  'track_id': 70164,\n  'track_vibe_id': 70164164221,\n  'value': 1.0},\n {'vibe_id': 164221,\n  'track_id': 70086,\n  'track_vibe_id': 70086164221,\n  'value': 1.0},\n {'vibe_id': 164221,\n  'track_id': 19225,\n  'track_vibe_id': 19225164221,\n  'value': 1.0},\n {'vibe_id': 164221,\n  'track_id': 71592,\n  'track_vibe_id': 71592164221,\n  'value': 1.0},\n {'vibe_id': 164221,\n  'track_id': 71365,\n  'track_vibe_id': 71365164221,\n  'value': 1.0},\n {'vibe_id': 164221,\n  'track_id': 71368,\n  'track_vibe_id': 71368164221,\n  'value': 1.0},\n {'vibe_id': 164221,\n  'track_id': 71910,\n  'track_vibe_id': 71910164221,\n  'value': 1.0},\n {'vibe_id': 164221,\n  'track_id': 21795,\n  'track_vibe_id': 21795164221,\n  'value': 1.0},\n {'vibe_id': 164221,\n  'track_id': 68855,\n  'track_vibe_id': 68855164221,\n  'value': 1.0},\n {'vibe_id': 164221,\n  'track_id': 69454,\n  'track_vibe_id': 69454164221,\n  'value': 1.0},\n {'vibe_id': 164221,\n  'track_id': 69442,\n  'track_vibe_id': 69442164221,\n  'value': 1.0},\n {'vibe_id': 164221,\n  'track_id': 68439,\n  'track_vibe_id': 68439164221,\n  'value': 1.0},\n {'vibe_id': 164221,\n  'track_id': 71727,\n  'track_vibe_id': 71727164221,\n  'value': 1.0},\n {'vibe_id': 164221,\n  'track_id': 74273,\n  'track_vibe_id': 74273164221,\n  'value': 1.0},\n {'vibe_id': 164293,\n  'track_id': 72869,\n  'track_vibe_id': 72869164293,\n  'value': 1.0},\n {'vibe_id': 164293,\n  'track_id': 69820,\n  'track_vibe_id': 69820164293,\n  'value': 1.0},\n {'vibe_id': 164298,\n  'track_id': 22471,\n  'track_vibe_id': 22471164298,\n  'value': 1.0},\n {'vibe_id': 164298,\n  'track_id': 20984,\n  'track_vibe_id': 20984164298,\n  'value': 1.0},\n {'vibe_id': 164298,\n  'track_id': 68033,\n  'track_vibe_id': 68033164298,\n  'value': 1.0},\n {'vibe_id': 164298,\n  'track_id': 23396,\n  'track_vibe_id': 23396164298,\n  'value': 1.0},\n {'vibe_id': 164298,\n  'track_id': 22399,\n  'track_vibe_id': 22399164298,\n  'value': 1.0},\n {'vibe_id': 164298,\n  'track_id': 69157,\n  'track_vibe_id': 69157164298,\n  'value': 1.0},\n {'vibe_id': 164298,\n  'track_id': 69652,\n  'track_vibe_id': 69652164298,\n  'value': 1.0},\n {'vibe_id': 164298,\n  'track_id': 23252,\n  'track_vibe_id': 23252164298,\n  'value': 1.0},\n {'vibe_id': 164298,\n  'track_id': 72339,\n  'track_vibe_id': 72339164298,\n  'value': 1.0},\n {'vibe_id': 164298,\n  'track_id': 71727,\n  'track_vibe_id': 71727164298,\n  'value': 1.0},\n {'vibe_id': 164311,\n  'track_id': 19715,\n  'track_vibe_id': 19715164311,\n  'value': 1.0},\n {'vibe_id': 164311,\n  'track_id': 18026,\n  'track_vibe_id': 18026164311,\n  'value': 1.0},\n {'vibe_id': 164311,\n  'track_id': 17984,\n  'track_vibe_id': 17984164311,\n  'value': 1.0},\n {'vibe_id': 164311,\n  'track_id': 20218,\n  'track_vibe_id': 20218164311,\n  'value': 1.0},\n {'vibe_id': 164311,\n  'track_id': 20215,\n  'track_vibe_id': 20215164311,\n  'value': 1.0},\n {'vibe_id': 164311,\n  'track_id': 20224,\n  'track_vibe_id': 20224164311,\n  'value': 1.0},\n {'vibe_id': 164311,\n  'track_id': 16058,\n  'track_vibe_id': 16058164311,\n  'value': 1.0},\n {'vibe_id': 164311,\n  'track_id': 20275,\n  'track_vibe_id': 20275164311,\n  'value': 1.0},\n {'vibe_id': 164311,\n  'track_id': 20239,\n  'track_vibe_id': 20239164311,\n  'value': 1.0},\n {'vibe_id': 164311,\n  'track_id': 20604,\n  'track_vibe_id': 20604164311,\n  'value': 1.0},\n {'vibe_id': 164311,\n  'track_id': 20221,\n  'track_vibe_id': 20221164311,\n  'value': 1.0},\n {'vibe_id': 164311,\n  'track_id': 20619,\n  'track_vibe_id': 20619164311,\n  'value': 1.0},\n {'vibe_id': 164311,\n  'track_id': 20703,\n  'track_vibe_id': 20703164311,\n  'value': 1.0},\n {'vibe_id': 164311,\n  'track_id': 20772,\n  'track_vibe_id': 20772164311,\n  'value': 1.0},\n {'vibe_id': 164311,\n  'track_id': 20793,\n  'track_vibe_id': 20793164311,\n  'value': 1.0},\n ...]"
     },
     "execution_count": 16,
     "metadata": {},
     "output_type": "execute_result"
    }
   ],
   "source": [
    "track_vibes"
   ]
  },
  {
   "cell_type": "code",
   "execution_count": 17,
   "metadata": {},
   "outputs": [
    {
     "data": {
      "text/plain": "[23393165344, 20556167526, 21360168100, 23396168866]"
     },
     "execution_count": 17,
     "metadata": {},
     "output_type": "execute_result"
    }
   ],
   "source": [
    "# There is apparently non-uniqueness in track_vibes\n",
    "import collections\n",
    "track_vibe_ids = [x[\"track_vibe_id\"] for x in track_vibes]\n",
    "dup_ids = [item for item, count in collections.Counter(track_vibe_ids).items() if count > 1]\n",
    "dup_ids"
   ]
  },
  {
   "cell_type": "code",
   "execution_count": 18,
   "metadata": {},
   "outputs": [],
   "source": [
    "duplicated_vibes = [vibe for vibe in track_vibes if vibe[\"track_vibe_id\"] in dup_ids]"
   ]
  },
  {
   "cell_type": "code",
   "execution_count": 19,
   "metadata": {},
   "outputs": [
    {
     "data": {
      "text/plain": "[{'vibe_id': 165344,\n  'track_id': 23393,\n  'track_vibe_id': 23393165344,\n  'value': 1.0},\n {'vibe_id': 165344,\n  'track_id': 23393,\n  'track_vibe_id': 23393165344,\n  'value': 1.0},\n {'vibe_id': 167526,\n  'track_id': 20556,\n  'track_vibe_id': 20556167526,\n  'value': 1.0},\n {'vibe_id': 167526,\n  'track_id': 20556,\n  'track_vibe_id': 20556167526,\n  'value': 1.0},\n {'vibe_id': 168100,\n  'track_id': 21360,\n  'track_vibe_id': 21360168100,\n  'value': 1.0},\n {'vibe_id': 168100,\n  'track_id': 21360,\n  'track_vibe_id': 21360168100,\n  'value': 1.0},\n {'vibe_id': 168866,\n  'track_id': 23396,\n  'track_vibe_id': 23396168866,\n  'value': 1.0},\n {'vibe_id': 168866,\n  'track_id': 23396,\n  'track_vibe_id': 23396168866,\n  'value': 1.0}]"
     },
     "execution_count": 19,
     "metadata": {},
     "output_type": "execute_result"
    }
   ],
   "source": [
    "duplicated_vibes"
   ]
  },
  {
   "cell_type": "code",
   "execution_count": 20,
   "metadata": {},
   "outputs": [],
   "source": [
    "dv = duplicated_vibes[0]"
   ]
  },
  {
   "cell_type": "code",
   "execution_count": 21,
   "metadata": {},
   "outputs": [
    {
     "data": {
      "text/plain": "23393"
     },
     "execution_count": 21,
     "metadata": {},
     "output_type": "execute_result"
    }
   ],
   "source": [
    "dv[\"track_id\"]"
   ]
  },
  {
   "cell_type": "code",
   "execution_count": 22,
   "metadata": {},
   "outputs": [
    {
     "data": {
      "text/plain": "[{'Name': 'Energy 3',\n  'Description': '',\n  'Playlist ID': 165344,\n  'Playlist Persistent ID': '9D540B8B771A0207',\n  'Parent Persistent ID': '8DC7885852007E94',\n  'All Items': True,\n  'Playlist Items': [{'Track ID': 20140},\n   {'Track ID': 20134},\n   {'Track ID': 21307},\n   {'Track ID': 21287},\n   {'Track ID': 21453},\n   {'Track ID': 22145},\n   {'Track ID': 22106},\n   {'Track ID': 22250},\n   {'Track ID': 22049},\n   {'Track ID': 22384},\n   {'Track ID': 22856},\n   {'Track ID': 21648},\n   {'Track ID': 21459},\n   {'Track ID': 22399},\n   {'Track ID': 21465},\n   {'Track ID': 20397},\n   {'Track ID': 18560},\n   {'Track ID': 22708},\n   {'Track ID': 17072},\n   {'Track ID': 23249},\n   {'Track ID': 23252},\n   {'Track ID': 23279},\n   {'Track ID': 24300},\n   {'Track ID': 19368},\n   {'Track ID': 19380},\n   {'Track ID': 23816},\n   {'Track ID': 67828},\n   {'Track ID': 67976},\n   {'Track ID': 67955},\n   {'Track ID': 67819},\n   {'Track ID': 68451},\n   {'Track ID': 23393},\n   {'Track ID': 23393},\n   {'Track ID': 68686},\n   {'Track ID': 46101},\n   {'Track ID': 15810},\n   {'Track ID': 68906},\n   {'Track ID': 68927},\n   {'Track ID': 69085},\n   {'Track ID': 67985},\n   {'Track ID': 69017},\n   {'Track ID': 16088},\n   {'Track ID': 48385},\n   {'Track ID': 69763},\n   {'Track ID': 22265},\n   {'Track ID': 70242},\n   {'Track ID': 41607},\n   {'Track ID': 20952},\n   {'Track ID': 21923},\n   {'Track ID': 21342},\n   {'Track ID': 68945},\n   {'Track ID': 68783},\n   {'Track ID': 70164},\n   {'Track ID': 70197},\n   {'Track ID': 70053},\n   {'Track ID': 70287},\n   {'Track ID': 70290},\n   {'Track ID': 23819},\n   {'Track ID': 68990},\n   {'Track ID': 68987},\n   {'Track ID': 69493},\n   {'Track ID': 70571},\n   {'Track ID': 69652},\n   {'Track ID': 70673},\n   {'Track ID': 19103},\n   {'Track ID': 70709},\n   {'Track ID': 70718},\n   {'Track ID': 70730},\n   {'Track ID': 70727},\n   {'Track ID': 70724},\n   {'Track ID': 70721},\n   {'Track ID': 16061},\n   {'Track ID': 70824},\n   {'Track ID': 71365},\n   {'Track ID': 71368},\n   {'Track ID': 69661},\n   {'Track ID': 69886},\n   {'Track ID': 72369},\n   {'Track ID': 15936},\n   {'Track ID': 69631},\n   {'Track ID': 72378},\n   {'Track ID': 17874},\n   {'Track ID': 17910},\n   {'Track ID': 69319},\n   {'Track ID': 73195},\n   {'Track ID': 73252},\n   {'Track ID': 69820},\n   {'Track ID': 73335},\n   {'Track ID': 73129},\n   {'Track ID': 73123},\n   {'Track ID': 73147},\n   {'Track ID': 71739},\n   {'Track ID': 16711},\n   {'Track ID': 74198},\n   {'Track ID': 74222}]}]"
     },
     "execution_count": 22,
     "metadata": {},
     "output_type": "execute_result"
    }
   ],
   "source": [
    "[p for p in playlists if p[\"Playlist ID\"] == dv[\"vibe_id\"]]"
   ]
  },
  {
   "cell_type": "code",
   "execution_count": 23,
   "metadata": {},
   "outputs": [
    {
     "data": {
      "text/plain": "8"
     },
     "execution_count": 23,
     "metadata": {},
     "output_type": "execute_result"
    }
   ],
   "source": [
    "len(duplicated_vibes)"
   ]
  },
  {
   "cell_type": "markdown",
   "metadata": {},
   "source": [
    "## Initialize Schema"
   ]
  },
  {
   "cell_type": "code",
   "execution_count": 24,
   "metadata": {},
   "outputs": [
    {
     "data": {
      "text/plain": "CompletedProcess(args=['rm', '-f', 'vibechecker.db'], returncode=0)"
     },
     "execution_count": 24,
     "metadata": {},
     "output_type": "execute_result"
    }
   ],
   "source": [
    "subprocess.run(\"rm -f vibechecker.db\".split(\" \"))"
   ]
  },
  {
   "cell_type": "code",
   "execution_count": 25,
   "metadata": {},
   "outputs": [
    {
     "data": {
      "text/plain": "CompletedProcess(args=['sqlite3', '-init', 'init-db.sql', 'vibechecker.db', \"'.exit'\"], returncode=1)"
     },
     "execution_count": 25,
     "metadata": {},
     "output_type": "execute_result"
    }
   ],
   "source": [
    "subprocess.run(\"sqlite3 -init init-db.sql vibechecker.db '.exit'\".split(\" \"))"
   ]
  },
  {
   "cell_type": "markdown",
   "metadata": {},
   "source": [
    "## Insert stuff into tables!"
   ]
  },
  {
   "cell_type": "code",
   "execution_count": 26,
   "metadata": {},
   "outputs": [],
   "source": [
    "import sqlite3"
   ]
  },
  {
   "cell_type": "code",
   "execution_count": 27,
   "metadata": {},
   "outputs": [],
   "source": [
    "conn = sqlite3.connect(\"vibechecker.db\")"
   ]
  },
  {
   "cell_type": "code",
   "execution_count": 28,
   "metadata": {},
   "outputs": [],
   "source": [
    "cursor = conn.cursor()"
   ]
  },
  {
   "cell_type": "code",
   "execution_count": 29,
   "metadata": {},
   "outputs": [],
   "source": [
    "cursor.executemany(\"\"\"\n",
    "    INSERT INTO vibes\n",
    "        (vibe_id, playlist_id, name, parent_id, type)\n",
    "    VALUES\n",
    "        (:vibe_id, :playlist_id, :name, :parent_id, :type)\"\"\", sql_vibes)\n",
    "conn.commit()"
   ]
  },
  {
   "cell_type": "code",
   "execution_count": 30,
   "metadata": {},
   "outputs": [
    {
     "data": {
      "text/plain": "{'vibe_id': 163260,\n 'track_id': 16067,\n 'track_vibe_id': 16067163260,\n 'value': 1.0}"
     },
     "execution_count": 30,
     "metadata": {},
     "output_type": "execute_result"
    }
   ],
   "source": [
    "track_vibes[0]"
   ]
  },
  {
   "cell_type": "code",
   "execution_count": 31,
   "metadata": {},
   "outputs": [],
   "source": [
    "cursor.executemany(\"\"\"\n",
    "    INSERT INTO tracks\n",
    "        (track_id, name, artist, album, tracknum)\n",
    "    VALUES\n",
    "        (:track_id, :name, :artist, :album, :tracknum)\"\"\", sql_tracks)\n",
    "conn.commit()"
   ]
  },
  {
   "cell_type": "code",
   "execution_count": 32,
   "metadata": {},
   "outputs": [],
   "source": [
    "# The \"insert or ignore\" statement is to deal with duplicate entries.\n",
    "cursor.executemany(\"\"\"\n",
    "    INSERT OR IGNORE INTO track_vibes\n",
    "        (track_vibe_id, vibe_id, track_id, value)\n",
    "    VALUES\n",
    "        (:track_vibe_id, :vibe_id, :track_id, :value)\"\"\", track_vibes)\n",
    "conn.commit()"
   ]
  },
  {
   "cell_type": "code",
   "execution_count": null,
   "metadata": {},
   "outputs": [],
   "source": []
  }
 ],
 "metadata": {
  "kernelspec": {
   "display_name": "Python 3",
   "language": "python",
   "name": "python3"
  },
  "language_info": {
   "codemirror_mode": {
    "name": "ipython",
    "version": 3
   },
   "file_extension": ".py",
   "mimetype": "text/x-python",
   "name": "python",
   "nbconvert_exporter": "python",
   "pygments_lexer": "ipython3",
   "version": "3.7.6-final"
  }
 },
 "nbformat": 4,
 "nbformat_minor": 4
}