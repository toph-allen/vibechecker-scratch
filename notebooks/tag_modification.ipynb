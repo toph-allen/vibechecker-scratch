{
 "cells": [
  {
   "cell_type": "code",
   "execution_count": 1,
   "metadata": {},
   "outputs": [],
   "source": [
    "import plistlib\n",
    "import mutagen\n",
    "from pathlib import Path\n",
    "from urllib.parse import unquote, urlparse\n",
    "import subprocess\n",
    "import os"
   ]
  },
  {
   "cell_type": "code",
   "execution_count": 2,
   "metadata": {},
   "outputs": [],
   "source": [
    "os.chdir(\"/Users/toph/Local/Projects/vibechecker-scratch\")"
   ]
  },
  {
   "cell_type": "markdown",
   "metadata": {},
   "source": [
    "## Define classes"
   ]
  },
  {
   "cell_type": "code",
   "execution_count": 3,
   "metadata": {},
   "outputs": [],
   "source": [
    "class Vibe():\n",
    "    def __init__(self, vibe_dict, con):\n",
    "        self.vibe_id = vibe_dict[\"vibe_id\"]\n",
    "        self.name = vibe_dict[\"name\"]\n",
    "        self.playlist_id = vibe_dict[\"playlist_id\"]\n",
    "        self.parent_id = vibe_dict[\"parent_id\"]\n",
    "        self.type = vibe_dict[\"type\"]\n",
    "\n",
    "    def __repr__(self):\n",
    "        return self.name"
   ]
  },
  {
   "cell_type": "code",
   "execution_count": 4,
   "metadata": {},
   "outputs": [],
   "source": [
    "vibe = []"
   ]
  },
  {
   "cell_type": "code",
   "execution_count": 5,
   "metadata": {},
   "outputs": [],
   "source": [
    "class Track():\n",
    "    def __init__(self, track_dict, con):\n",
    "        self.track_id = track_dict[\"track_id\"]\n",
    "        self.name = track_dict[\"name\"]\n",
    "        self.artist = track_dict[\"artist\"]\n",
    "        self.album = track_dict[\"album\"]\n",
    "        self.tracknum = track_dict[\"tracknum\"]\n",
    "        self.con = con\n",
    "\n",
    "    def __repr__(self):\n",
    "        return f\"{self.artist} — {self.name}\"\n",
    "\n",
    "    def vibes(self):\n",
    "        track_vibes = con.execute(\"SELECT * FROM track_vibes WHERE track_id=?\", (self.track_id,))\n",
    "        vibe_ids = [v[\"vibe_id\"] for v in track_vibes]\n",
    "        sql = \"SELECT * FROM vibes WHERE vibe_id IN ({seq}) AND type != 'folder'\".format(seq=\",\".join([\"?\"]*len(vibe_ids))) # Wow this is obnoxious\n",
    "        vibes = [Vibe(v, self.con) for v in con.execute(sql, vibe_ids)]\n",
    "        return vibes\n",
    "    \n",
    "    def add_vibe(self, vibe):\n",
    "        vibe = {\n",
    "            \"track_vibe_id\": int(str(self.track_id) + str(vibe.vibe_id)),\n",
    "            \"vibe_id\": vibe.vibe_id,\n",
    "            \"track_id\": self.track_id,\n",
    "            \"value\": 1.0\n",
    "        }\n",
    "        columns = ', '.join(vibe.keys())\n",
    "        placeholders = ', '.join('?' * len(vibe))\n",
    "        print(vibe.values())\n",
    "        print(type(vibe.values()))\n",
    "        print([type(v) for v in vibe.values()])\n",
    "        sql = \"\"\"\n",
    "        INSERT OR IGNORE INTO track_vibes\n",
    "            ({})\n",
    "        VALUES\n",
    "            ({})\"\"\".format(\n",
    "                columns, placeholders\n",
    "            )\n",
    "        print(sql)\n",
    "        self.con.cursor().execute(sql, tuple(vibe.values()))\n",
    "        self.con.commit()"
   ]
  },
  {
   "cell_type": "markdown",
   "metadata": {},
   "source": [
    "## Load and query tables"
   ]
  },
  {
   "cell_type": "code",
   "execution_count": 6,
   "metadata": {},
   "outputs": [],
   "source": [
    "import sqlite3"
   ]
  },
  {
   "cell_type": "code",
   "execution_count": 7,
   "metadata": {},
   "outputs": [],
   "source": [
    "con = sqlite3.connect(\"vibechecker.db\")"
   ]
  },
  {
   "cell_type": "code",
   "execution_count": 8,
   "metadata": {},
   "outputs": [],
   "source": [
    "def dict_factory(cursor, row):\n",
    "    d = {}\n",
    "    for idx, col in enumerate(cursor.description):\n",
    "        d[col[0]] = row[idx]\n",
    "    return d\n",
    "con.row_factory = dict_factory"
   ]
  },
  {
   "cell_type": "code",
   "execution_count": 9,
   "metadata": {},
   "outputs": [],
   "source": [
    "cursor = con.cursor()"
   ]
  },
  {
   "cell_type": "code",
   "execution_count": 10,
   "metadata": {},
   "outputs": [],
   "source": [
    "command = \"\"\"\n",
    "SELECT * FROM tracks\n",
    "\"\"\"\n",
    "tracks = []\n",
    "for track_dict in cursor.execute(command):\n",
    "    track = Track(track_dict, con)\n",
    "    if len(track.vibes()) is not 0:\n",
    "        tracks.append(track)"
   ]
  },
  {
   "cell_type": "code",
   "execution_count": 11,
   "metadata": {},
   "outputs": [],
   "source": [
    "command = \"\"\"\n",
    "SELECT * FROM vibes\n",
    "\"\"\"\n",
    "vibes = []\n",
    "for vibe_dict in cursor.execute(command):\n",
    "    vibe = Vibe(vibe_dict, con)\n",
    "    if vibe.type != \"folder\":\n",
    "        vibes.append(vibe)"
   ]
  },
  {
   "cell_type": "code",
   "execution_count": 12,
   "metadata": {},
   "outputs": [],
   "source": [
    "t = tracks[7]"
   ]
  },
  {
   "cell_type": "code",
   "execution_count": 13,
   "metadata": {},
   "outputs": [
    {
     "data": {
      "text/plain": "Superpoze — Shelter"
     },
     "execution_count": 13,
     "metadata": {},
     "output_type": "execute_result"
    }
   ],
   "source": [
    "t"
   ]
  },
  {
   "cell_type": "code",
   "execution_count": 14,
   "metadata": {},
   "outputs": [
    {
     "data": {
      "text/plain": "[Energy 2, Longing / Melancholy, Endings]"
     },
     "execution_count": 14,
     "metadata": {},
     "output_type": "execute_result"
    }
   ],
   "source": [
    "t.vibes()"
   ]
  },
  {
   "cell_type": "code",
   "execution_count": 15,
   "metadata": {},
   "outputs": [],
   "source": [
    "v = [v for v in vibes if v.name == \"Pretty\"][0]"
   ]
  },
  {
   "cell_type": "code",
   "execution_count": 16,
   "metadata": {},
   "outputs": [
    {
     "data": {
      "text/plain": "Pretty"
     },
     "execution_count": 16,
     "metadata": {},
     "output_type": "execute_result"
    }
   ],
   "source": [
    "v"
   ]
  },
  {
   "cell_type": "code",
   "execution_count": 17,
   "metadata": {},
   "outputs": [
    {
     "name": "stdout",
     "output_type": "stream",
     "text": "dict_values([15201166620, 166620, 15201, 1.0])\n<class 'dict_values'>\n[<class 'int'>, <class 'int'>, <class 'int'>, <class 'float'>]\n\n        INSERT OR IGNORE INTO track_vibes\n            (track_vibe_id, vibe_id, track_id, value)\n        VALUES\n            (?, ?, ?, ?)\n"
    }
   ],
   "source": [
    "t.add_vibe(v)"
   ]
  },
  {
   "cell_type": "code",
   "execution_count": 18,
   "metadata": {},
   "outputs": [
    {
     "data": {
      "text/plain": "[Energy 2, Pretty, Longing / Melancholy, Endings]"
     },
     "execution_count": 18,
     "metadata": {},
     "output_type": "execute_result"
    }
   ],
   "source": [
    "t.vibes()"
   ]
  },
  {
   "cell_type": "code",
   "execution_count": 19,
   "metadata": {},
   "outputs": [
    {
     "data": {
      "text/plain": "<sqlite3.Cursor at 0x10c522180>"
     },
     "execution_count": 19,
     "metadata": {},
     "output_type": "execute_result"
    }
   ],
   "source": [
    "cursor.execute(\"SELECT * FROM track_vibes WHERE track_vibe_id=15201166620\")"
   ]
  },
  {
   "cell_type": "code",
   "execution_count": 20,
   "metadata": {},
   "outputs": [
    {
     "data": {
      "text/plain": "[{'track_vibe_id': 15201166620,\n  'track_id': 15201,\n  'vibe_id': 166620,\n  'value': 1.0}]"
     },
     "execution_count": 20,
     "metadata": {},
     "output_type": "execute_result"
    }
   ],
   "source": [
    "cursor.fetchall()"
   ]
  },
  {
   "cell_type": "code",
   "execution_count": 21,
   "metadata": {},
   "outputs": [
    {
     "data": {
      "text/plain": "15201"
     },
     "execution_count": 21,
     "metadata": {},
     "output_type": "execute_result"
    }
   ],
   "source": [
    "t.track_id"
   ]
  },
  {
   "cell_type": "code",
   "execution_count": null,
   "metadata": {},
   "outputs": [],
   "source": []
  }
 ],
 "metadata": {
  "kernelspec": {
   "display_name": "Python 3",
   "language": "python",
   "name": "python3"
  },
  "language_info": {
   "codemirror_mode": {
    "name": "ipython",
    "version": 3
   },
   "file_extension": ".py",
   "mimetype": "text/x-python",
   "name": "python",
   "nbconvert_exporter": "python",
   "pygments_lexer": "ipython3",
   "version": "3.7.6-final"
  }
 },
 "nbformat": 4,
 "nbformat_minor": 4
}